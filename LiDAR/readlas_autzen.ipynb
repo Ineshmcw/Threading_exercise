{
 "cells": [
  {
   "cell_type": "code",
   "execution_count": 1,
   "metadata": {},
   "outputs": [
    {
     "name": "stdout",
     "output_type": "stream",
     "text": [
      "Defaulting to user installation because normal site-packages is not writeable\n",
      "Requirement already satisfied: pylas in /home/inesh/.local/lib/python3.10/site-packages (0.4.3)\n",
      "Requirement already satisfied: laspy in /home/inesh/.local/lib/python3.10/site-packages (2.5.4)\n",
      "Requirement already satisfied: numpy in /home/inesh/.local/lib/python3.10/site-packages (1.25.0)\n",
      "Requirement already satisfied: matplotlib in /home/inesh/.local/lib/python3.10/site-packages (3.6.2)\n",
      "Requirement already satisfied: open3d in /home/inesh/.local/lib/python3.10/site-packages (0.19.0)\n",
      "Requirement already satisfied: kiwisolver>=1.0.1 in /home/inesh/.local/lib/python3.10/site-packages (from matplotlib) (1.4.7)\n",
      "Requirement already satisfied: python-dateutil>=2.7 in /home/inesh/.local/lib/python3.10/site-packages (from matplotlib) (2.9.0.post0)\n",
      "Requirement already satisfied: packaging>=20.0 in /usr/local/lib/python3.10/dist-packages/packaging-24.1-py3.10.egg (from matplotlib) (24.1)\n",
      "Requirement already satisfied: fonttools>=4.22.0 in /home/inesh/.local/lib/python3.10/site-packages (from matplotlib) (4.54.1)\n",
      "Requirement already satisfied: pyparsing>=2.2.1 in /usr/lib/python3/dist-packages (from matplotlib) (2.4.7)\n",
      "Requirement already satisfied: pillow>=6.2.0 in /home/inesh/.local/lib/python3.10/site-packages (from matplotlib) (11.1.0)\n",
      "Requirement already satisfied: cycler>=0.10 in /home/inesh/.local/lib/python3.10/site-packages (from matplotlib) (0.12.1)\n",
      "Requirement already satisfied: contourpy>=1.0.1 in /home/inesh/.local/lib/python3.10/site-packages (from matplotlib) (1.3.0)\n",
      "Requirement already satisfied: scikit-learn>=0.21 in /home/inesh/.local/lib/python3.10/site-packages (from open3d) (1.1.3)\n",
      "Requirement already satisfied: pyyaml>=5.4.1 in /home/inesh/.local/lib/python3.10/site-packages (from open3d) (6.0)\n",
      "Requirement already satisfied: pandas>=1.0 in /home/inesh/.local/lib/python3.10/site-packages (from open3d) (1.5.1)\n",
      "Requirement already satisfied: werkzeug>=3.0.0 in /home/inesh/.local/lib/python3.10/site-packages (from open3d) (3.0.4)\n",
      "Requirement already satisfied: pyquaternion in /home/inesh/.local/lib/python3.10/site-packages (from open3d) (0.9.9)\n",
      "Requirement already satisfied: addict in /home/inesh/.local/lib/python3.10/site-packages (from open3d) (2.4.0)\n",
      "Requirement already satisfied: nbformat>=5.7.0 in /home/inesh/.local/lib/python3.10/site-packages (from open3d) (5.10.4)\n",
      "Requirement already satisfied: flask>=3.0.0 in /home/inesh/.local/lib/python3.10/site-packages (from open3d) (3.0.3)\n",
      "Requirement already satisfied: tqdm in /home/inesh/.local/lib/python3.10/site-packages (from open3d) (4.64.1)\n",
      "Requirement already satisfied: dash>=2.6.0 in /home/inesh/.local/lib/python3.10/site-packages (from open3d) (2.18.2)\n",
      "Requirement already satisfied: ipywidgets>=8.0.4 in /home/inesh/.local/lib/python3.10/site-packages (from open3d) (8.1.5)\n",
      "Requirement already satisfied: configargparse in /home/inesh/.local/lib/python3.10/site-packages (from open3d) (1.7)\n",
      "Requirement already satisfied: dash-core-components==2.0.0 in /home/inesh/.local/lib/python3.10/site-packages (from dash>=2.6.0->open3d) (2.0.0)\n",
      "Requirement already satisfied: setuptools in /usr/lib/python3/dist-packages (from dash>=2.6.0->open3d) (59.6.0)\n",
      "Requirement already satisfied: requests in /home/inesh/.local/lib/python3.10/site-packages (from dash>=2.6.0->open3d) (2.32.3)\n",
      "Requirement already satisfied: importlib-metadata in /usr/lib/python3/dist-packages (from dash>=2.6.0->open3d) (4.6.4)\n",
      "Requirement already satisfied: typing-extensions>=4.1.1 in /home/inesh/.local/lib/python3.10/site-packages (from dash>=2.6.0->open3d) (4.12.2)\n",
      "Requirement already satisfied: retrying in /home/inesh/.local/lib/python3.10/site-packages (from dash>=2.6.0->open3d) (1.3.4)\n",
      "Requirement already satisfied: nest-asyncio in /home/inesh/.local/lib/python3.10/site-packages (from dash>=2.6.0->open3d) (1.6.0)\n",
      "Requirement already satisfied: dash-table==5.0.0 in /home/inesh/.local/lib/python3.10/site-packages (from dash>=2.6.0->open3d) (5.0.0)\n",
      "Requirement already satisfied: dash-html-components==2.0.0 in /home/inesh/.local/lib/python3.10/site-packages (from dash>=2.6.0->open3d) (2.0.0)\n",
      "Requirement already satisfied: plotly>=5.0.0 in /home/inesh/.local/lib/python3.10/site-packages (from dash>=2.6.0->open3d) (6.0.0)\n",
      "Requirement already satisfied: Jinja2>=3.1.2 in /home/inesh/.local/lib/python3.10/site-packages (from flask>=3.0.0->open3d) (3.1.4)\n",
      "Requirement already satisfied: itsdangerous>=2.1.2 in /home/inesh/.local/lib/python3.10/site-packages (from flask>=3.0.0->open3d) (2.2.0)\n",
      "Requirement already satisfied: click>=8.1.3 in /home/inesh/.local/lib/python3.10/site-packages (from flask>=3.0.0->open3d) (8.1.8)\n",
      "Requirement already satisfied: blinker>=1.6.2 in /home/inesh/.local/lib/python3.10/site-packages (from flask>=3.0.0->open3d) (1.9.0)\n",
      "Requirement already satisfied: jupyterlab-widgets~=3.0.12 in /home/inesh/.local/lib/python3.10/site-packages (from ipywidgets>=8.0.4->open3d) (3.0.13)\n",
      "Requirement already satisfied: comm>=0.1.3 in /home/inesh/.local/lib/python3.10/site-packages (from ipywidgets>=8.0.4->open3d) (0.2.2)\n",
      "Requirement already satisfied: traitlets>=4.3.1 in /home/inesh/.local/lib/python3.10/site-packages (from ipywidgets>=8.0.4->open3d) (5.14.3)\n",
      "Requirement already satisfied: ipython>=6.1.0 in /home/inesh/.local/lib/python3.10/site-packages (from ipywidgets>=8.0.4->open3d) (8.12.2)\n",
      "Requirement already satisfied: widgetsnbextension~=4.0.12 in /home/inesh/.local/lib/python3.10/site-packages (from ipywidgets>=8.0.4->open3d) (4.0.13)\n",
      "Requirement already satisfied: jupyter-core!=5.0.*,>=4.12 in /home/inesh/.local/lib/python3.10/site-packages (from nbformat>=5.7.0->open3d) (5.7.2)\n",
      "Requirement already satisfied: fastjsonschema>=2.15 in /home/inesh/.local/lib/python3.10/site-packages (from nbformat>=5.7.0->open3d) (2.20.0)\n",
      "Requirement already satisfied: jsonschema>=2.6 in /home/inesh/.local/lib/python3.10/site-packages (from nbformat>=5.7.0->open3d) (4.23.0)\n",
      "Requirement already satisfied: pytz>=2020.1 in /usr/lib/python3/dist-packages (from pandas>=1.0->open3d) (2022.1)\n",
      "Requirement already satisfied: six>=1.5 in /usr/lib/python3/dist-packages (from python-dateutil>=2.7->matplotlib) (1.16.0)\n",
      "Requirement already satisfied: threadpoolctl>=2.0.0 in /home/inesh/.local/lib/python3.10/site-packages (from scikit-learn>=0.21->open3d) (3.5.0)\n",
      "Requirement already satisfied: scipy>=1.3.2 in /home/inesh/.local/lib/python3.10/site-packages (from scikit-learn>=0.21->open3d) (1.9.3)\n",
      "Requirement already satisfied: joblib>=1.0.0 in /home/inesh/.local/lib/python3.10/site-packages (from scikit-learn>=0.21->open3d) (1.4.2)\n",
      "Requirement already satisfied: MarkupSafe>=2.1.1 in /home/inesh/.local/lib/python3.10/site-packages (from werkzeug>=3.0.0->open3d) (3.0.2)\n",
      "Requirement already satisfied: stack-data in /home/inesh/.local/lib/python3.10/site-packages (from ipython>=6.1.0->ipywidgets>=8.0.4->open3d) (0.6.3)\n",
      "Requirement already satisfied: pexpect>4.3 in /usr/lib/python3/dist-packages (from ipython>=6.1.0->ipywidgets>=8.0.4->open3d) (4.8.0)\n",
      "Requirement already satisfied: jedi>=0.16 in /home/inesh/.local/lib/python3.10/site-packages (from ipython>=6.1.0->ipywidgets>=8.0.4->open3d) (0.19.1)\n",
      "Requirement already satisfied: backcall in /home/inesh/.local/lib/python3.10/site-packages (from ipython>=6.1.0->ipywidgets>=8.0.4->open3d) (0.2.0)\n",
      "Requirement already satisfied: decorator in /home/inesh/.local/lib/python3.10/site-packages (from ipython>=6.1.0->ipywidgets>=8.0.4->open3d) (5.1.1)\n",
      "Requirement already satisfied: pygments>=2.4.0 in /usr/lib/python3/dist-packages (from ipython>=6.1.0->ipywidgets>=8.0.4->open3d) (2.11.2)\n",
      "Requirement already satisfied: matplotlib-inline in /home/inesh/.local/lib/python3.10/site-packages (from ipython>=6.1.0->ipywidgets>=8.0.4->open3d) (0.1.7)\n",
      "Requirement already satisfied: pickleshare in /home/inesh/.local/lib/python3.10/site-packages (from ipython>=6.1.0->ipywidgets>=8.0.4->open3d) (0.7.5)\n",
      "Requirement already satisfied: prompt-toolkit!=3.0.37,<3.1.0,>=3.0.30 in /home/inesh/.local/lib/python3.10/site-packages (from ipython>=6.1.0->ipywidgets>=8.0.4->open3d) (3.0.48)\n",
      "Requirement already satisfied: jsonschema-specifications>=2023.03.6 in /home/inesh/.local/lib/python3.10/site-packages (from jsonschema>=2.6->nbformat>=5.7.0->open3d) (2024.10.1)\n",
      "Requirement already satisfied: referencing>=0.28.4 in /home/inesh/.local/lib/python3.10/site-packages (from jsonschema>=2.6->nbformat>=5.7.0->open3d) (0.35.1)\n",
      "Requirement already satisfied: rpds-py>=0.7.1 in /home/inesh/.local/lib/python3.10/site-packages (from jsonschema>=2.6->nbformat>=5.7.0->open3d) (0.20.0)\n",
      "Requirement already satisfied: attrs>=22.2.0 in /home/inesh/.local/lib/python3.10/site-packages (from jsonschema>=2.6->nbformat>=5.7.0->open3d) (24.2.0)\n",
      "Requirement already satisfied: platformdirs>=2.5 in /home/inesh/.local/lib/python3.10/site-packages (from jupyter-core!=5.0.*,>=4.12->nbformat>=5.7.0->open3d) (4.3.6)\n",
      "Requirement already satisfied: narwhals>=1.15.1 in /home/inesh/.local/lib/python3.10/site-packages (from plotly>=5.0.0->dash>=2.6.0->open3d) (1.30.0)\n",
      "Requirement already satisfied: urllib3<3,>=1.21.1 in /usr/lib/python3/dist-packages (from requests->dash>=2.6.0->open3d) (1.26.5)\n",
      "Requirement already satisfied: certifi>=2017.4.17 in /usr/lib/python3/dist-packages (from requests->dash>=2.6.0->open3d) (2020.6.20)\n",
      "Requirement already satisfied: charset-normalizer<4,>=2 in /home/inesh/.local/lib/python3.10/site-packages (from requests->dash>=2.6.0->open3d) (3.4.0)\n",
      "Requirement already satisfied: idna<4,>=2.5 in /usr/lib/python3/dist-packages (from requests->dash>=2.6.0->open3d) (3.3)\n",
      "Requirement already satisfied: parso<0.9.0,>=0.8.3 in /home/inesh/.local/lib/python3.10/site-packages (from jedi>=0.16->ipython>=6.1.0->ipywidgets>=8.0.4->open3d) (0.8.4)\n",
      "Requirement already satisfied: wcwidth in /home/inesh/.local/lib/python3.10/site-packages (from prompt-toolkit!=3.0.37,<3.1.0,>=3.0.30->ipython>=6.1.0->ipywidgets>=8.0.4->open3d) (0.2.13)\n",
      "Requirement already satisfied: pure-eval in /home/inesh/.local/lib/python3.10/site-packages (from stack-data->ipython>=6.1.0->ipywidgets>=8.0.4->open3d) (0.2.3)\n",
      "Requirement already satisfied: asttokens>=2.1.0 in /home/inesh/.local/lib/python3.10/site-packages (from stack-data->ipython>=6.1.0->ipywidgets>=8.0.4->open3d) (2.4.1)\n",
      "Requirement already satisfied: executing>=1.2.0 in /home/inesh/.local/lib/python3.10/site-packages (from stack-data->ipython>=6.1.0->ipywidgets>=8.0.4->open3d) (1.2.0)\n",
      "Note: you may need to restart the kernel to use updated packages.\n"
     ]
    }
   ],
   "source": [
    "%pip install pylas laspy numpy matplotlib open3d"
   ]
  },
  {
   "cell_type": "code",
   "execution_count": 2,
   "metadata": {},
   "outputs": [
    {
     "name": "stdout",
     "output_type": "stream",
     "text": [
      "Defaulting to user installation because normal site-packages is not writeable\n",
      "Requirement already satisfied: lazrs in /home/inesh/.local/lib/python3.10/site-packages (0.6.2)\n",
      "Note: you may need to restart the kernel to use updated packages.\n"
     ]
    }
   ],
   "source": [
    "%pip install lazrs"
   ]
  },
  {
   "cell_type": "code",
   "execution_count": null,
   "metadata": {},
   "outputs": [],
   "source": [
    "import laspy\n",
    "\n",
    "las = laspy.read(\"/home/inesh/LiDAR/autzen.laz\")  # Read .laz file\n",
    "las.write(\"autzen.las\")  # Convert to .las"
   ]
  },
  {
   "cell_type": "code",
   "execution_count": 5,
   "metadata": {},
   "outputs": [],
   "source": [
    "# Grab just the X dimension from the file, and scale it.\n",
    "\n",
    "def scaled_x_dimension(las_file):\n",
    "    x_dimension = las_file.X\n",
    "    scale = las_file.header.scales[0]\n",
    "    offset = las_file.header.offsets[0]\n",
    "    return (x_dimension * scale) + offset\n",
    "\n",
    "scaled_x = scaled_x_dimension(las)"
   ]
  },
  {
   "cell_type": "code",
   "execution_count": null,
   "metadata": {},
   "outputs": [],
   "source": [
    "import laspy\n",
    "import numpy as np\n",
    "import matplotlib.pyplot as plt\n",
    "from scipy.interpolate import griddata\n",
    "\n",
    "# Load LAS file\n",
    "las = laspy.read(\"/home/inesh/LiDAR/autzen.las\")\n",
    "points = np.vstack((las.x, las.y, las.z)).T\n",
    "\n",
    "# Define grid size\n",
    "grid_x, grid_y = np.mgrid[min(las.x):max(las.x):100j, min(las.y):max(las.y):100j]\n",
    "\n",
    "# Interpolate using griddata\n",
    "grid_z = griddata(points[:, :2], points[:, 2], (grid_x, grid_y), method='cubic')\n",
    "\n",
    "# Plot the DEM\n",
    "plt.figure(figsize=(8, 6))\n",
    "plt.imshow(grid_z.T, extent=(min(las.x), max(las.x), min(las.y), max(las.y)), origin='lower', cmap='terrain')\n",
    "plt.colorbar(label=\"Elevation (Z)\")\n",
    "plt.title(\"Digital Elevation Model (DEM)\")\n",
    "plt.xlabel(\"X Coordinate\")\n",
    "plt.ylabel(\"Y Coordinate\")\n",
    "plt.show()\n"
   ]
  }
 ],
 "metadata": {
  "kernelspec": {
   "display_name": "Python 3",
   "language": "python",
   "name": "python3"
  },
  "language_info": {
   "codemirror_mode": {
    "name": "ipython",
    "version": 3
   },
   "file_extension": ".py",
   "mimetype": "text/x-python",
   "name": "python",
   "nbconvert_exporter": "python",
   "pygments_lexer": "ipython3",
   "version": "3.10.12"
  }
 },
 "nbformat": 4,
 "nbformat_minor": 2
}
